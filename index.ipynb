{
 "cells": [
  {
   "cell_type": "code",
   "execution_count": 6,
   "id": "42020b76-c5b5-49c4-bfc6-7e695c2d8427",
   "metadata": {},
   "outputs": [
    {
     "name": "stdout",
     "output_type": "stream",
     "text": [
      "['Types de métiers recherchés', 'Expérience professionnelle', 'Compétences', 'Formation', 'Compétences clés', 'Langues', \"Plus d'informations\"]\n"
     ]
    }
   ],
   "source": [
    "import pandas as pd \n",
    "import numpy as numpy\n",
    "\n",
    "#charger la list des C.V (data.csv)abs\n",
    "data = pd.read_csv('clean_cv/data.csv')\n",
    "\n",
    "df = pd.DataFrame(data)\n",
    "\n",
    "# Afficherd les noms des colonnes\n",
    "print(df.columns.tolist())\n",
    "\n"
   ]
  },
  {
   "cell_type": "code",
   "execution_count": 7,
   "id": "91a07055-1c8d-4aa7-9074-c6d14e0b4d13",
   "metadata": {},
   "outputs": [
    {
     "name": "stdout",
     "output_type": "stream",
     "text": [
      "['Types de métiers recherchés', 'Expérience professionnelle', 'Compétences', 'Formation', 'Compétences clés']\n"
     ]
    }
   ],
   "source": [
    "df = df.drop(columns=[\"Plus d'informations\", \"Langues\"])\n",
    "print(df.columns.tolist())\n"
   ]
  },
  {
   "cell_type": "code",
   "execution_count": 8,
   "id": "8730d988-f6eb-4ba1-9818-cce3f9a41704",
   "metadata": {},
   "outputs": [
    {
     "name": "stdout",
     "output_type": "stream",
     "text": [
      "                         Types de métiers recherchés  \\\n",
      "0               Informatique, nouvelles technologies   \n",
      "1   Commercial, vente Gestion, comptabilité, fina...   \n",
      "2               Informatique, nouvelles technologies   \n",
      "3   Informatique, nouvelles technologies Métiers ...   \n",
      "4               Informatique, nouvelles technologies   \n",
      "\n",
      "                          Expérience professionnelle  \\\n",
      "0   Expérience dans les secteurs d´activité suiva...   \n",
      "1   Expérience dans les secteurs d´activité suiva...   \n",
      "2   Expérience dans les secteurs d´activité suiva...   \n",
      "3   Expérience dans les secteurs d´activité suiva...   \n",
      "4   Expérience dans les secteurs d´activité suiva...   \n",
      "\n",
      "                                         Compétences  \\\n",
      "0   DÉVELOPPEMENT WEB, NOTAMMENT AVEC SPRING BOOT...   \n",
      "1   Développement web Full Stack (WordPress, Next...   \n",
      "2   vba excel dashboards python web html css js p...   \n",
      "3   Langages informatiques: Python, Java, Dart Fr...   \n",
      "4   ReactJS,NextJs,Vuejs ,Expressjs , Nodejs, Red...   \n",
      "\n",
      "                                           Formation  \\\n",
      "0   Niveau d'études : Bac+5 et plus GENIE LOGICIE...   \n",
      "1   Niveau d'études : Bac+3 Licence Professionnel...   \n",
      "2   Niveau d'études : Bac+5 et plus Ingénieur d’é...   \n",
      "3   Niveau d'études : Bac+5 et plus informatique ...   \n",
      "4   Niveau d'études : Bac+2 Technicien Spécialisé...   \n",
      "\n",
      "                                    Compétences clés  \n",
      "0        development web SpringBoot JAVASCRIPT REACT  \n",
      "1   Service Clients Management des Achats Concept...  \n",
      "2                                                NaN  \n",
      "3       informatique Analyse Industrielle Consulting  \n",
      "4                                                NaN  \n"
     ]
    }
   ],
   "source": [
    "print(df.head())"
   ]
  },
  {
   "cell_type": "code",
   "execution_count": 9,
   "id": "bede79ad-841b-49f8-8bbf-bf5345033423",
   "metadata": {},
   "outputs": [
    {
     "name": "stdout",
     "output_type": "stream",
     "text": [
      "<class 'pandas.core.frame.DataFrame'>\n",
      "RangeIndex: 985 entries, 0 to 984\n",
      "Data columns (total 5 columns):\n",
      " #   Column                       Non-Null Count  Dtype \n",
      "---  ------                       --------------  ----- \n",
      " 0   Types de métiers recherchés  985 non-null    object\n",
      " 1   Expérience professionnelle   985 non-null    object\n",
      " 2   Compétences                  983 non-null    object\n",
      " 3   Formation                    985 non-null    object\n",
      " 4   Compétences clés             812 non-null    object\n",
      "dtypes: object(5)\n",
      "memory usage: 38.6+ KB\n",
      "None\n"
     ]
    }
   ],
   "source": [
    "# Vérifier les types de données et les valeurs manquantes\n",
    "print(df.info())\n"
   ]
  },
  {
   "cell_type": "code",
   "execution_count": 10,
   "id": "6e5997ad-6946-4e95-9ecb-8ed8972de7b6",
   "metadata": {},
   "outputs": [
    {
     "name": "stdout",
     "output_type": "stream",
     "text": [
      "                  Types de métiers recherchés  \\\n",
      "count                                     985   \n",
      "unique                                    226   \n",
      "top      Informatique, nouvelles technologies   \n",
      "freq                                      541   \n",
      "\n",
      "                               Expérience professionnelle Compétences  \\\n",
      "count                                                 985         983   \n",
      "unique                                                801         982   \n",
      "top      Expérience dans les secteurs d´activité suiva...           .   \n",
      "freq                                                  116           2   \n",
      "\n",
      "                                                Formation  \\\n",
      "count                                                 985   \n",
      "unique                                                985   \n",
      "top      Niveau d'études : Bac+5 et plus GENIE LOGICIE...   \n",
      "freq                                                    1   \n",
      "\n",
      "                  Compétences clés  \n",
      "count                          812  \n",
      "unique                         732  \n",
      "top      Formation en Informatique  \n",
      "freq                            11  \n"
     ]
    }
   ],
   "source": [
    "# Statistiques descriptives pour les colonnes numériques\n",
    "print(df.describe())"
   ]
  },
  {
   "cell_type": "code",
   "execution_count": 11,
   "id": "5430750f-5af4-406f-ac1e-82acb969d453",
   "metadata": {},
   "outputs": [
    {
     "name": "stdout",
     "output_type": "stream",
     "text": [
      "Types de métiers recherchés      0\n",
      "Expérience professionnelle       0\n",
      "Compétences                      2\n",
      "Formation                        0\n",
      "Compétences clés               173\n",
      "dtype: int64\n"
     ]
    }
   ],
   "source": [
    "#les valeurs manquantes\n",
    "print(df.isnull().sum())"
   ]
  },
  {
   "cell_type": "code",
   "execution_count": 12,
   "id": "0c9f81dc-d2de-40fa-91f4-116f5c7cf36d",
   "metadata": {},
   "outputs": [
    {
     "name": "stdout",
     "output_type": "stream",
     "text": [
      "Types de métiers recherchés    0\n",
      "Expérience professionnelle     0\n",
      "Compétences                    0\n",
      "Formation                      0\n",
      "Compétences clés               0\n",
      "dtype: int64\n"
     ]
    }
   ],
   "source": [
    "#Remplacer les valeurs manquantes par \"Non spécifié\" \n",
    "df[\"Compétences\"] = df[\"Compétences\"].fillna(\"Non spécifié\")\n",
    "df[\"Compétences clés\"] = df[\"Compétences clés\"].fillna(\"Non spécifié\")\n",
    "\n",
    "print(df.isnull().sum())"
   ]
  },
  {
   "cell_type": "code",
   "execution_count": 13,
   "id": "be56043c-fe25-49ac-b2ce-fc5bac0dfbc1",
   "metadata": {},
   "outputs": [
    {
     "name": "stdout",
     "output_type": "stream",
     "text": [
      "                  Types de métiers recherchés  \\\n",
      "count                                     985   \n",
      "unique                                    226   \n",
      "top      Informatique, nouvelles technologies   \n",
      "freq                                      541   \n",
      "\n",
      "                               Expérience professionnelle Compétences  \\\n",
      "count                                                 985         985   \n",
      "unique                                                801         982   \n",
      "top      Expérience dans les secteurs dactivité suivan...               \n",
      "freq                                                  116           3   \n",
      "\n",
      "                                                Formation Compétences clés  \n",
      "count                                                 985              985  \n",
      "unique                                                985              733  \n",
      "top      Niveau détudes  Bac5 et plus GENIE LOGICIELMI...     Non spécifié  \n",
      "freq                                                    1              173  \n"
     ]
    }
   ],
   "source": [
    "import re\n",
    "\n",
    "# Nettoyer les colonnes  (retirer les emojis, ponctuation et symboles inutiles)\n",
    "df['Compétences'] = df['Compétences'].apply(lambda x: re.sub(r'[^\\w\\s]', '', str(x)))\n",
    "df['Compétences clés'] = df['Compétences clés'].apply(lambda x: re.sub(r'[^\\w\\s]', '', str(x)))\n",
    "df['Expérience professionnelle'] = df['Expérience professionnelle'].apply(lambda x: re.sub(r'[^\\w\\s]', '', str(x)))\n",
    "df['Formation'] = df['Formation'].apply(lambda x: re.sub(r'[^\\w\\s]', '', str(x)))\n",
    "\n",
    "print(df.describe())"
   ]
  },
  {
   "cell_type": "code",
   "execution_count": 14,
   "id": "ad72dc59-2e0d-4f99-b54e-c1f48c9e354a",
   "metadata": {},
   "outputs": [
    {
     "name": "stdout",
     "output_type": "stream",
     "text": [
      "Types de métiers recherchés    0\n",
      "Expérience professionnelle     0\n",
      "Compétences                    0\n",
      "Formation                      0\n",
      "Compétences clés               0\n",
      "dtype: int64\n"
     ]
    }
   ],
   "source": [
    "print(df.isnull().sum())"
   ]
  },
  {
   "cell_type": "code",
   "execution_count": 15,
   "id": "6d3eb47c-0e6c-45a4-bfab-d69bc6bdc838",
   "metadata": {},
   "outputs": [
    {
     "name": "stdout",
     "output_type": "stream",
     "text": [
      "                         Types de métiers recherchés  \\\n",
      "0               Informatique, nouvelles technologies   \n",
      "1   Commercial, vente Gestion, comptabilité, fina...   \n",
      "2               Informatique, nouvelles technologies   \n",
      "3   Informatique, nouvelles technologies Métiers ...   \n",
      "4               Informatique, nouvelles technologies   \n",
      "\n",
      "                          Expérience professionnelle  \\\n",
      "0   Expérience dans les secteurs dactivité suivan...   \n",
      "1   Expérience dans les secteurs dactivité suivan...   \n",
      "2   Expérience dans les secteurs dactivité suivan...   \n",
      "3   Expérience dans les secteurs dactivité suivan...   \n",
      "4   Expérience dans les secteurs dactivité suivan...   \n",
      "\n",
      "                                         Compétences  \\\n",
      "0   DÉVELOPPEMENT WEB NOTAMMENT AVEC SPRING BOOT ...   \n",
      "1   Développement web Full Stack WordPress Nextjs...   \n",
      "2   vba excel dashboards python web html css js p...   \n",
      "3   Langages informatiques Python Java Dart Frame...   \n",
      "4   ReactJSNextJsVuejs Expressjs  Nodejs Redux HT...   \n",
      "\n",
      "                                           Formation  \\\n",
      "0   Niveau détudes  Bac5 et plus GENIE LOGICIELMI...   \n",
      "1   Niveau détudes  Bac3 Licence Professionnelle ...   \n",
      "2   Niveau détudes  Bac5 et plus Ingénieur détat ...   \n",
      "3   Niveau détudes  Bac5 et plus informatique et ...   \n",
      "4   Niveau détudes  Bac2 Technicien Spécialisé Dé...   \n",
      "\n",
      "                                    Compétences clés  \\\n",
      "0        development web SpringBoot JAVASCRIPT REACT   \n",
      "1   Service Clients Management des Achats Concept...   \n",
      "2                                       Non spécifié   \n",
      "3       informatique Analyse Industrielle Consulting   \n",
      "4                                       Non spécifié   \n",
      "\n",
      "                                           cv_resume  \n",
      "0   Expérience dans les secteurs dactivité suivan...  \n",
      "1   Expérience dans les secteurs dactivité suivan...  \n",
      "2   Expérience dans les secteurs dactivité suivan...  \n",
      "3   Expérience dans les secteurs dactivité suivan...  \n",
      "4   Expérience dans les secteurs dactivité suivan...  \n"
     ]
    }
   ],
   "source": [
    "resume = df\n",
    "resume[\"cv_resume\"] = resume[\"Expérience professionnelle\"].fillna('') + \" \" + resume[\"Compétences\"].fillna('') + \" \" + resume[\"Formation\"].fillna('') + \" \" + resume[\"Compétences clés\"].fillna('')\n",
    "print(resume.head())\n"
   ]
  },
  {
   "cell_type": "code",
   "execution_count": 16,
   "id": "0db8746e-386e-40d4-8632-d7a95dc3630c",
   "metadata": {},
   "outputs": [],
   "source": [
    "#Applique S-BERT sur le C.V global\n",
    "from sentence_transformers import SentenceTransformer\n",
    "from sklearn.metrics.pairwise import cosine_similarity\n",
    "import numpy as np\n",
    "# Chargement du modèle pré-entraîné (par exemple, paraphrase-MiniLM-L6-v2)\n",
    "model = SentenceTransformer('all-MiniLM-L6-v2')"
   ]
  },
  {
   "cell_type": "code",
   "execution_count": 17,
   "id": "3ad80f52-f0a9-4496-9445-48d97f1604de",
   "metadata": {},
   "outputs": [
    {
     "name": "stdout",
     "output_type": "stream",
     "text": [
      "Similarité avec CV 1: 0.6296\n",
      "Similarité avec CV 733: 0.5914\n",
      "Similarité avec CV 547: 0.5459\n",
      "Similarité avec CV 333: 0.5418\n",
      "Similarité avec CV 391: 0.5370\n"
     ]
    }
   ],
   "source": [
    "offre_emploi = \"Recherche développeur full-stack avec compétences en Spring Boot et React.\"\n",
    "\n",
    "# Embedding pour l'offre d'emploi\n",
    "offre_embedding = model.encode(offre_emploi).reshape(1,-1) \n",
    "\n",
    "# Embedding pour les cvs\n",
    "cv_embeddings = model.encode(resume[\"cv_resume\"].tolist()) \n",
    "\n",
    "# Calcul de la similarité cosinus entre l'offre d'emploi et chaque CV\n",
    "similarities = cosine_similarity(offre_embedding, cv_embeddings)[0]\n",
    "\n",
    "top_5_indices = np.argsort(similarities)[-5:][::-1]\n",
    "\n",
    "# Affichage des résultats de similarité\n",
    "for i in top_5_indices:\n",
    "    print(f\"Similarité avec CV {i+1}: {similarities[i]:.4f}\")"
   ]
  },
  {
   "cell_type": "code",
   "execution_count": 18,
   "id": "53a72cc6-0708-4c64-85e5-e628cfb598f0",
   "metadata": {},
   "outputs": [],
   "source": [
    "# applique S-BERT sur chauqe section individuel \n",
    "\n",
    "# Embeddings et similarités par section\n",
    "cv_embeddings_expr = model.encode(resume[\"Expérience professionnelle\"].tolist())\n",
    "cv_embeddings_cmpet = model.encode(resume[\"Compétences\"].tolist())\n",
    "cv_embeddings_edu = model.encode(resume[\"Formation\"].tolist())\n",
    "cv_embeddings_cmpt_cle = model.encode(resume[\"Compétences clés\"].tolist())\n",
    "\n",
    "# calcul similarité de chaque section\n",
    "similarities_expr = cosine_similarity(offre_embedding, cv_embeddings_expr)[0]\n",
    "similarities_cmpet = cosine_similarity(offre_embedding, cv_embeddings_cmpet)[0]\n",
    "similarities_edu = cosine_similarity(offre_embedding, cv_embeddings_edu)[0]\n",
    "similarities_cmpet_cle = cosine_similarity(offre_embedding, cv_embeddings_cmpt_cle)[0]\n",
    "\n",
    "top_5_expr = np.argsort(similarities_expr)[-5:][::-1]\n",
    "top_5_cmpet = np.argsort(similarities_cmpet)[-5:][::-1]\n",
    "top_5_edu = np.argsort(similarities_edu)[-5:][::-1]\n",
    "top_5_cmpet_cle = np.argsort(similarities_cmpet_cle)[-5:][::-1]\n",
    "\n",
    "# calcul simularite global \n",
    "# Poids attribués à chaque section (La relation de la moyenne pondérée )\n",
    "weights = {\n",
    "    \"Expérience professionnelle\": 0.4,\n",
    "    \"Compétences\": 0.35,\n",
    "    \"Formation\": 0.05,\n",
    "    \"Compétences clés\": 0.2\n",
    "}\n",
    "\n",
    "# Calcul de la similarité globale en appliquant la moyenne pondérée\n",
    "similarities_global = (\n",
    "    weights[\"Expérience professionnelle\"] * similarities_expr +\n",
    "    weights[\"Compétences\"] * similarities_cmpet +\n",
    "    weights[\"Formation\"] * similarities_edu +\n",
    "    weights[\"Compétences clés\"] * similarities_cmpet_cle\n",
    ")\n",
    "\n",
    "# Extraction des 5 CVs les plus similaires globalement\n",
    "top_5_global = np.argsort(similarities_global)[-5:][::-1]\n",
    "\n"
   ]
  },
  {
   "cell_type": "code",
   "execution_count": 19,
   "id": "f53b9283-8aad-4db0-855d-86c56765bc82",
   "metadata": {
    "scrolled": true
   },
   "outputs": [
    {
     "name": "stdout",
     "output_type": "stream",
     "text": [
      "--------------------------------------------------------------\n",
      "\n",
      "\n",
      "Expérience professionnelle | Similarité avec CV 104: 0.5492\n",
      "Expérience professionnelle | Similarité avec CV 835: 0.5428\n",
      "Expérience professionnelle | Similarité avec CV 745: 0.5215\n",
      "Expérience professionnelle | Similarité avec CV 46: 0.5211\n",
      "Expérience professionnelle | Similarité avec CV 479: 0.5145\n",
      "--------------------------------------------------------------\n",
      "\n",
      "\n",
      "Compétences | Similarité avec CV 445: 0.7246\n",
      "Compétences | Similarité avec CV 1: 0.6574\n",
      "Compétences | Similarité avec CV 853: 0.5657\n",
      "Compétences | Similarité avec CV 136: 0.5606\n",
      "Compétences | Similarité avec CV 220: 0.5419\n",
      "--------------------------------------------------------------\n",
      "\n",
      "\n",
      "Formation | Similarité avec CV 417: 0.5160\n",
      "Formation | Similarité avec CV 152: 0.4555\n",
      "Formation | Similarité avec CV 697: 0.4484\n",
      "Formation | Similarité avec CV 438: 0.4385\n",
      "Formation | Similarité avec CV 403: 0.4371\n",
      "--------------------------------------------------------------\n",
      "\n",
      "\n",
      "Compétences clés | Similarité avec CV 697: 0.6252\n",
      "Compétences clés | Similarité avec CV 595: 0.6068\n",
      "Compétences clés | Similarité avec CV 265: 0.6028\n",
      "Compétences clés | Similarité avec CV 136: 0.5959\n",
      "Compétences clés | Similarité avec CV 1: 0.5620\n",
      "--------------------------------------------------------------\n",
      "\n",
      "\n",
      "CV 445 | Similarité Globale : 0.4808\n",
      "CV 745 | Similarité Globale : 0.4743\n",
      "CV 1 | Similarité Globale : 0.4657\n",
      "CV 46 | Similarité Globale : 0.4623\n",
      "CV 136 | Similarité Globale : 0.4473\n"
     ]
    }
   ],
   "source": [
    "#afficher les 5 premier grand similarité de chaque section\n",
    "\n",
    "# Affichage des résultats de similarité pour la section Expérience professionnelle\n",
    "print(\"--------------------------------------------------------------\")\n",
    "print(\"\\n\")\n",
    "\n",
    "for i in top_5_expr:\n",
    "    print(f\"Expérience professionnelle | Similarité avec CV {i+1}: {similarities_expr[i]:.4f}\")\n",
    "    \n",
    "print(\"--------------------------------------------------------------\")\n",
    "print(\"\\n\")\n",
    "\n",
    "# Affichage des résultats de similarité pour la section Compétences\n",
    "for i in top_5_cmpet:\n",
    "    print(f\"Compétences | Similarité avec CV {i+1}: {similarities_cmpet[i]:.4f}\")\n",
    "    \n",
    "print(\"--------------------------------------------------------------\")\n",
    "print(\"\\n\")\n",
    "\n",
    "# Affichage des résultats de similarité pour la section Compétences\n",
    "for i in top_5_edu:\n",
    "    print(f\"Formation | Similarité avec CV {i+1}: {similarities_edu[i]:.4f}\")\n",
    "    \n",
    "print(\"--------------------------------------------------------------\")\n",
    "print(\"\\n\")\n",
    "\n",
    "# Affichage des résultats de similarité pour la section Compétences\n",
    "for i in top_5_cmpet_cle:\n",
    "    print(f\"Compétences clés | Similarité avec CV {i+1}: {similarities_cmpet_cle[i]:.4f}\")\n",
    "    \n",
    "print(\"--------------------------------------------------------------\")\n",
    "print(\"\\n\")\n",
    "\n",
    "for i in top_5_global:\n",
    "    print(f\"CV {i+1} | Similarité Globale : {similarities_global[i]:.4f}\")\n",
    "\n",
    "\n",
    "\n"
   ]
  },
  {
   "cell_type": "code",
   "execution_count": 20,
   "id": "4d47be81-8917-4963-9c83-88e027088bf1",
   "metadata": {},
   "outputs": [
    {
     "name": "stdout",
     "output_type": "stream",
     "text": [
      "Similarité avec CV 948: 0.4060\n",
      "Similarité avec CV 197: 0.3786\n",
      "Similarité avec CV 435: 0.3747\n",
      "Similarité avec CV 834: 0.3558\n",
      "Similarité avec CV 46: 0.3250\n"
     ]
    }
   ],
   "source": [
    "#applique de tf-idf globalemnent\n",
    "# import required module\n",
    "from sklearn.feature_extraction.text import TfidfVectorizer\n",
    "# Initialiser le vectoriseur TF-IDF\n",
    "vectorizer = TfidfVectorizer()\n",
    "\n",
    "offre_emploi = \"Recherche développeur full-stack avec compétences en Spring Boot et React.\"\n",
    "\n",
    "# Vectoriser les CVs et l'offre d'emploi\n",
    "tfidf_matrix = vectorizer.fit_transform(resume['cv_resume'])\n",
    "offre_emploi_vector = vectorizer.transform([offre_emploi])\n",
    "\n",
    "# Calculer la similarité cosinus entre l'offre d'emploi et chaque CV\n",
    "similarities_tf_idf = cosine_similarity(offre_emploi_vector, tfidf_matrix)[0]\n",
    "\n",
    "top_5_indices_tf_idf = np.argsort(similarities_tf_idf)[-5:][::-1]\n",
    "\n",
    "# Affichage des résultats de similarité\n",
    "for i in top_5_indices_tf_idf:\n",
    "    print(f\"Similarité avec CV {i+1}: {similarities_tf_idf[i]:.4f}\")"
   ]
  },
  {
   "cell_type": "code",
   "execution_count": 21,
   "id": "edef2ee5-72a7-4b71-a684-49a20d9a721a",
   "metadata": {},
   "outputs": [],
   "source": [
    "#applique de tf-idf sur chaque section\n",
    "tfidf_matrix_exp = vectorizer.transform(resume['Expérience professionnelle'])\n",
    "tfidf_matrix_cmpt = vectorizer.transform(resume['Compétences'])\n",
    "tfidf_matrix_edu = vectorizer.transform(resume['Formation'])\n",
    "tfidf_matrix_cmpt_cle = vectorizer.transform(resume['Compétences clés'])\n",
    "\n",
    "similarities_tf_idf_exp = cosine_similarity(offre_emploi_vector, tfidf_matrix_exp)[0]\n",
    "similarities_tf_idf_cmpt = cosine_similarity(offre_emploi_vector, tfidf_matrix_cmpt)[0]\n",
    "similarities_tf_idf_edu = cosine_similarity(offre_emploi_vector, tfidf_matrix_edu)[0]\n",
    "similarities_tf_idf_cmpt_cle = cosine_similarity(offre_emploi_vector, tfidf_matrix_cmpt_cle)[0]\n",
    "\n",
    "\n",
    "top_5_indices_tf_idf_exp = np.argsort(similarities_tf_idf_exp)[-5:][::-1]\n",
    "top_5_indices_tf_idf_cmpt = np.argsort(similarities_tf_idf_cmpt)[-5:][::-1]\n",
    "top_5_indices_tf_idf_edu = np.argsort(similarities_tf_idf_edu)[-5:][::-1]\n",
    "top_5_indices_tf_idf_cmpt_cle = np.argsort(similarities_tf_idf_cmpt_cle)[-5:][::-1]\n",
    "\n",
    "# Calcul de la similarité globale en appliquant la moyenne pondérée\n",
    "similarities_global_tf_idf = (\n",
    "    weights[\"Expérience professionnelle\"] * similarities_tf_idf_exp +\n",
    "    weights[\"Compétences\"] * similarities_tf_idf_cmpt +\n",
    "    weights[\"Formation\"] * similarities_tf_idf_edu +\n",
    "    weights[\"Compétences clés\"] * similarities_tf_idf_cmpt_cle\n",
    ")\n",
    "\n",
    "# Extraction des 5 CVs les plus similaires globalement\n",
    "top_5_global_tf_idf = np.argsort(similarities_global_tf_idf)[-5:][::-1]\n",
    "\n",
    "\n"
   ]
  },
  {
   "cell_type": "code",
   "execution_count": 20,
   "id": "f0f8b2aa-390d-4d97-938e-0c6602187ad1",
   "metadata": {},
   "outputs": [
    {
     "name": "stdout",
     "output_type": "stream",
     "text": [
      "--------------------------------------------------------------\n",
      "\n",
      "\n",
      "Expérience professionnelle | Similarité avec CV 197: 0.3816\n",
      "Expérience professionnelle | Similarité avec CV 851: 0.3553\n",
      "Expérience professionnelle | Similarité avec CV 46: 0.3387\n",
      "Expérience professionnelle | Similarité avec CV 104: 0.3298\n",
      "Expérience professionnelle | Similarité avec CV 835: 0.3027\n",
      "--------------------------------------------------------------\n",
      "\n",
      "\n",
      "Compétence | Similarité avec CV 923: 0.5701\n",
      "Compétence | Similarité avec CV 138: 0.5467\n",
      "Compétence | Similarité avec CV 333: 0.5052\n",
      "Compétence | Similarité avec CV 136: 0.4728\n",
      "Compétence | Similarité avec CV 762: 0.4335\n",
      "--------------------------------------------------------------\n",
      "\n",
      "\n",
      "Formation | Similarité avec CV 124: 0.3707\n",
      "Formation | Similarité avec CV 834: 0.3577\n",
      "Formation | Similarité avec CV 435: 0.3548\n",
      "Formation | Similarité avec CV 417: 0.3349\n",
      "Formation | Similarité avec CV 917: 0.3014\n",
      "--------------------------------------------------------------\n",
      "\n",
      "\n",
      "Competence cle | Similarité avec CV 78: 0.5701\n",
      "Competence cle | Similarité avec CV 382: 0.5701\n",
      "Competence cle | Similarité avec CV 213: 0.5326\n",
      "Competence cle | Similarité avec CV 136: 0.4982\n",
      "Competence cle | Similarité avec CV 333: 0.4799\n",
      "--------------------------------------------------------------\n",
      "\n",
      "\n",
      "CV 136 | Similarité Globale : 0.3089\n",
      "CV 333 | Similarité Globale : 0.2741\n",
      "CV 46 | Similarité Globale : 0.2572\n",
      "CV 197 | Similarité Globale : 0.2429\n",
      "CV 382 | Similarité Globale : 0.2413\n"
     ]
    }
   ],
   "source": [
    "# Affichage des résultats de similarité\n",
    "print(\"--------------------------------------------------------------\")\n",
    "print(\"\\n\")\n",
    "\n",
    "for i in top_5_indices_tf_idf_exp:\n",
    "    print(f\"Expérience professionnelle | Similarité avec CV {i+1}: {similarities_tf_idf_exp[i]:.4f}\")\n",
    "\n",
    "print(\"--------------------------------------------------------------\")\n",
    "print(\"\\n\")\n",
    "\n",
    "for i in top_5_indices_tf_idf_cmpt:\n",
    "    print(f\"Compétence | Similarité avec CV {i+1}: {similarities_tf_idf_cmpt[i]:.4f}\")\n",
    "\n",
    "print(\"--------------------------------------------------------------\")\n",
    "print(\"\\n\")\n",
    "\n",
    "for i in top_5_indices_tf_idf_edu:\n",
    "    print(f\"Formation | Similarité avec CV {i+1}: {similarities_tf_idf_edu[i]:.4f}\")\n",
    "\n",
    "print(\"--------------------------------------------------------------\")\n",
    "print(\"\\n\")\n",
    "\n",
    "for i in top_5_indices_tf_idf_cmpt_cle:\n",
    "    print(f\"Competence cle | Similarité avec CV {i+1}: {similarities_tf_idf_cmpt_cle[i]:.4f}\")\n",
    "\n",
    "print(\"--------------------------------------------------------------\")\n",
    "print(\"\\n\")\n",
    "\n",
    "for i in top_5_global_tf_idf:\n",
    "    print(f\"CV {i+1} | Similarité Globale : {similarities_global_tf_idf[i]:.4f}\")"
   ]
  },
  {
   "cell_type": "code",
   "execution_count": null,
   "id": "36e3f0df-9aac-4fdd-9f31-97c1d64f39ce",
   "metadata": {},
   "outputs": [],
   "source": []
  }
 ],
 "metadata": {
  "kernelspec": {
   "display_name": "Python 3 (ipykernel)",
   "language": "python",
   "name": "python3"
  },
  "language_info": {
   "codemirror_mode": {
    "name": "ipython",
    "version": 3
   },
   "file_extension": ".py",
   "mimetype": "text/x-python",
   "name": "python",
   "nbconvert_exporter": "python",
   "pygments_lexer": "ipython3",
   "version": "3.12.7"
  }
 },
 "nbformat": 4,
 "nbformat_minor": 5
}
